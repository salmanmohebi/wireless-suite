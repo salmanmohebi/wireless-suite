{
 "cells": [
  {
   "cell_type": "markdown",
   "metadata": {},
   "source": [
    "# Test the implemented NaiveDQN on simple environments "
   ]
  },
  {
   "cell_type": "markdown",
   "metadata": {},
   "source": [
    "## CartPole-v0"
   ]
  },
  {
   "cell_type": "markdown",
   "metadata": {},
   "source": [
    "### Import necessary packages"
   ]
  },
  {
   "cell_type": "code",
   "execution_count": 1,
   "metadata": {},
   "outputs": [],
   "source": [
    "import logging\n",
    "from os.path import join\n",
    "import gym\n",
    "import numpy as np\n",
    "import matplotlib.pyplot as plt\n",
    "from wireless.agents.naive_dqn import NaiveDQNAgent"
   ]
  },
  {
   "cell_type": "markdown",
   "metadata": {},
   "source": [
    "### Initialize variables"
   ]
  },
  {
   "cell_type": "code",
   "execution_count": 2,
   "metadata": {},
   "outputs": [
    {
     "name": "stdout",
     "output_type": "stream",
     "text": [
      "WARNING:tensorflow:From /home/sensori/.virtualenvs/wireless-suite/lib/python3.6/site-packages/tensorflow_core/python/ops/resource_variable_ops.py:1630: calling BaseResourceVariable.__init__ (from tensorflow.python.ops.resource_variable_ops) with constraint is deprecated and will be removed in a future version.\n",
      "Instructions for updating:\n",
      "If using Keras pass *_constraint arguments to layers.\n"
     ]
    }
   ],
   "source": [
    "n_episodes = 200\n",
    "max_steps=200\n",
    "logging.getLogger().setLevel(logging.INFO)\n",
    "env = gym.make('CartPole-v0')\n",
    "agent = NaiveDQNAgent(env)"
   ]
  },
  {
   "cell_type": "markdown",
   "metadata": {},
   "source": [
    "### Train agent"
   ]
  },
  {
   "cell_type": "code",
   "execution_count": 3,
   "metadata": {},
   "outputs": [
    {
     "name": "stderr",
     "output_type": "stream",
     "text": [
      "INFO:root:Start to train agent at 2020-07-09 12:25:37.448738\n",
      "INFO:root:Episode: 1/200, reward: 11.0 (mean: 0.055, average mean: 0.055000), Epsilon: 0.049751\n",
      "INFO:root:Episode: 2/200, reward: 10.0 (mean: 0.05, average mean: 0.052500), Epsilon: 0.049501\n",
      "INFO:root:Episode: 3/200, reward: 10.0 (mean: 0.05, average mean: 0.051667), Epsilon: 0.049252\n",
      "INFO:root:Episode: 4/200, reward: 9.0 (mean: 0.045, average mean: 0.050000), Epsilon: 0.049002\n",
      "INFO:root:Episode: 5/200, reward: 9.0 (mean: 0.045, average mean: 0.049000), Epsilon: 0.048753\n",
      "INFO:root:Episode: 6/200, reward: 10.0 (mean: 0.05, average mean: 0.049167), Epsilon: 0.048503\n",
      "INFO:root:Episode: 7/200, reward: 11.0 (mean: 0.055, average mean: 0.050000), Epsilon: 0.048253\n",
      "INFO:root:Episode: 8/200, reward: 10.0 (mean: 0.05, average mean: 0.050000), Epsilon: 0.048004\n",
      "INFO:root:Episode: 9/200, reward: 10.0 (mean: 0.05, average mean: 0.050000), Epsilon: 0.047754\n",
      "INFO:root:Episode: 10/200, reward: 9.0 (mean: 0.045, average mean: 0.049500), Epsilon: 0.047505\n",
      "INFO:root:Episode: 11/200, reward: 13.0 (mean: 0.065, average mean: 0.050909), Epsilon: 0.047255\n",
      "INFO:root:Episode: 12/200, reward: 10.0 (mean: 0.05, average mean: 0.050833), Epsilon: 0.047006\n",
      "INFO:root:Episode: 13/200, reward: 9.0 (mean: 0.045, average mean: 0.050385), Epsilon: 0.046757\n",
      "INFO:root:Episode: 14/200, reward: 10.0 (mean: 0.05, average mean: 0.050357), Epsilon: 0.046507\n",
      "INFO:root:Episode: 15/200, reward: 9.0 (mean: 0.045, average mean: 0.050000), Epsilon: 0.046258\n",
      "INFO:root:Episode: 16/200, reward: 8.0 (mean: 0.04, average mean: 0.049375), Epsilon: 0.046008\n",
      "INFO:root:Episode: 17/200, reward: 9.0 (mean: 0.045, average mean: 0.049118), Epsilon: 0.045759\n",
      "INFO:root:Episode: 18/200, reward: 13.0 (mean: 0.065, average mean: 0.050000), Epsilon: 0.045509\n",
      "INFO:root:Episode: 19/200, reward: 9.0 (mean: 0.045, average mean: 0.049737), Epsilon: 0.045260\n",
      "INFO:root:Episode: 20/200, reward: 10.0 (mean: 0.05, average mean: 0.049750), Epsilon: 0.045010\n",
      "INFO:root:Episode: 21/200, reward: 8.0 (mean: 0.04, average mean: 0.049286), Epsilon: 0.044761\n",
      "INFO:root:Episode: 22/200, reward: 9.0 (mean: 0.045, average mean: 0.049091), Epsilon: 0.044511\n",
      "INFO:root:Episode: 23/200, reward: 9.0 (mean: 0.045, average mean: 0.048913), Epsilon: 0.044262\n",
      "INFO:root:Episode: 24/200, reward: 8.0 (mean: 0.04, average mean: 0.048542), Epsilon: 0.044012\n",
      "INFO:root:Episode: 25/200, reward: 9.0 (mean: 0.045, average mean: 0.048400), Epsilon: 0.043763\n",
      "INFO:root:Episode: 26/200, reward: 9.0 (mean: 0.045, average mean: 0.048269), Epsilon: 0.043513\n",
      "INFO:root:Episode: 27/200, reward: 12.0 (mean: 0.06, average mean: 0.048704), Epsilon: 0.043264\n",
      "INFO:root:Episode: 28/200, reward: 10.0 (mean: 0.05, average mean: 0.048750), Epsilon: 0.043014\n",
      "INFO:root:Episode: 29/200, reward: 9.0 (mean: 0.045, average mean: 0.048621), Epsilon: 0.042765\n",
      "INFO:root:Episode: 30/200, reward: 9.0 (mean: 0.045, average mean: 0.048500), Epsilon: 0.042515\n",
      "INFO:root:Episode: 31/200, reward: 10.0 (mean: 0.05, average mean: 0.048548), Epsilon: 0.042266\n",
      "INFO:root:Episode: 32/200, reward: 9.0 (mean: 0.045, average mean: 0.048438), Epsilon: 0.042016\n",
      "INFO:root:Episode: 33/200, reward: 9.0 (mean: 0.045, average mean: 0.048333), Epsilon: 0.041766\n",
      "INFO:root:Episode: 34/200, reward: 12.0 (mean: 0.06, average mean: 0.048676), Epsilon: 0.041517\n",
      "INFO:root:Episode: 35/200, reward: 10.0 (mean: 0.05, average mean: 0.048714), Epsilon: 0.041267\n",
      "INFO:root:Episode: 36/200, reward: 10.0 (mean: 0.05, average mean: 0.048750), Epsilon: 0.041018\n",
      "INFO:root:Episode: 37/200, reward: 9.0 (mean: 0.045, average mean: 0.048649), Epsilon: 0.040768\n",
      "INFO:root:Episode: 38/200, reward: 10.0 (mean: 0.05, average mean: 0.048684), Epsilon: 0.040519\n",
      "INFO:root:Episode: 39/200, reward: 10.0 (mean: 0.05, average mean: 0.048718), Epsilon: 0.040270\n",
      "INFO:root:Episode: 40/200, reward: 11.0 (mean: 0.055, average mean: 0.048875), Epsilon: 0.040020\n",
      "INFO:root:Episode: 41/200, reward: 10.0 (mean: 0.05, average mean: 0.048902), Epsilon: 0.039771\n",
      "INFO:root:Episode: 42/200, reward: 10.0 (mean: 0.05, average mean: 0.048929), Epsilon: 0.039521\n",
      "INFO:root:Episode: 43/200, reward: 11.0 (mean: 0.055, average mean: 0.049070), Epsilon: 0.039272\n",
      "INFO:root:Episode: 44/200, reward: 11.0 (mean: 0.055, average mean: 0.049205), Epsilon: 0.039022\n",
      "INFO:root:Episode: 45/200, reward: 9.0 (mean: 0.045, average mean: 0.049111), Epsilon: 0.038773\n",
      "INFO:root:Episode: 46/200, reward: 8.0 (mean: 0.04, average mean: 0.048913), Epsilon: 0.038523\n",
      "INFO:root:Episode: 47/200, reward: 9.0 (mean: 0.045, average mean: 0.048830), Epsilon: 0.038274\n",
      "INFO:root:Episode: 48/200, reward: 10.0 (mean: 0.05, average mean: 0.048854), Epsilon: 0.038024\n",
      "INFO:root:Episode: 49/200, reward: 9.0 (mean: 0.045, average mean: 0.048776), Epsilon: 0.037775\n",
      "INFO:root:Episode: 50/200, reward: 10.0 (mean: 0.05, average mean: 0.048800), Epsilon: 0.037525\n",
      "INFO:root:Episode: 51/200, reward: 10.0 (mean: 0.05, average mean: 0.048824), Epsilon: 0.037276\n",
      "INFO:root:Episode: 52/200, reward: 9.0 (mean: 0.045, average mean: 0.048750), Epsilon: 0.037026\n",
      "INFO:root:Episode: 53/200, reward: 8.0 (mean: 0.04, average mean: 0.048585), Epsilon: 0.036777\n",
      "INFO:root:Episode: 54/200, reward: 8.0 (mean: 0.04, average mean: 0.048426), Epsilon: 0.036527\n",
      "INFO:root:Episode: 55/200, reward: 10.0 (mean: 0.05, average mean: 0.048455), Epsilon: 0.036278\n",
      "INFO:root:Episode: 56/200, reward: 85.0 (mean: 0.425, average mean: 0.055179), Epsilon: 0.036028\n",
      "INFO:root:Episode: 57/200, reward: 23.0 (mean: 0.115, average mean: 0.056228), Epsilon: 0.035778\n",
      "INFO:root:Episode: 58/200, reward: 35.0 (mean: 0.175, average mean: 0.058276), Epsilon: 0.035529\n",
      "INFO:root:Episode: 59/200, reward: 96.0 (mean: 0.48, average mean: 0.065424), Epsilon: 0.035279\n",
      "INFO:root:Episode: 60/200, reward: 81.0 (mean: 0.405, average mean: 0.071083), Epsilon: 0.035030\n",
      "INFO:root:Episode: 61/200, reward: 200.0 (mean: 1.0, average mean: 0.086311), Epsilon: 0.034780\n",
      "INFO:root:Episode: 62/200, reward: 52.0 (mean: 0.26, average mean: 0.089113), Epsilon: 0.034531\n",
      "INFO:root:Episode: 63/200, reward: 200.0 (mean: 1.0, average mean: 0.103571), Epsilon: 0.034282\n",
      "INFO:root:Episode: 64/200, reward: 200.0 (mean: 1.0, average mean: 0.117578), Epsilon: 0.034032\n",
      "INFO:root:Episode: 65/200, reward: 192.0 (mean: 0.96, average mean: 0.130538), Epsilon: 0.033783\n",
      "INFO:root:Episode: 66/200, reward: 159.0 (mean: 0.795, average mean: 0.140606), Epsilon: 0.033533\n",
      "INFO:root:Episode: 67/200, reward: 123.0 (mean: 0.615, average mean: 0.147687), Epsilon: 0.033284\n",
      "INFO:root:Episode: 68/200, reward: 76.0 (mean: 0.38, average mean: 0.151103), Epsilon: 0.033034\n",
      "INFO:root:Episode: 69/200, reward: 139.0 (mean: 0.695, average mean: 0.158986), Epsilon: 0.032785\n",
      "INFO:root:Episode: 70/200, reward: 200.0 (mean: 1.0, average mean: 0.171000), Epsilon: 0.032535\n",
      "INFO:root:Episode: 71/200, reward: 168.0 (mean: 0.84, average mean: 0.180423), Epsilon: 0.032286\n",
      "INFO:root:Episode: 72/200, reward: 125.0 (mean: 0.625, average mean: 0.186597), Epsilon: 0.032036\n",
      "INFO:root:Episode: 73/200, reward: 190.0 (mean: 0.95, average mean: 0.197055), Epsilon: 0.031787\n",
      "INFO:root:Episode: 74/200, reward: 200.0 (mean: 1.0, average mean: 0.207905), Epsilon: 0.031537\n",
      "INFO:root:Episode: 75/200, reward: 200.0 (mean: 1.0, average mean: 0.218467), Epsilon: 0.031288\n",
      "INFO:root:Episode: 76/200, reward: 200.0 (mean: 1.0, average mean: 0.228750), Epsilon: 0.031038\n",
      "INFO:root:Episode: 77/200, reward: 200.0 (mean: 1.0, average mean: 0.238766), Epsilon: 0.030788\n",
      "INFO:root:Episode: 78/200, reward: 200.0 (mean: 1.0, average mean: 0.248526), Epsilon: 0.030539\n",
      "INFO:root:Episode: 79/200, reward: 200.0 (mean: 1.0, average mean: 0.258038), Epsilon: 0.030289\n",
      "INFO:root:Episode: 80/200, reward: 200.0 (mean: 1.0, average mean: 0.267313), Epsilon: 0.030040\n",
      "INFO:root:Episode: 81/200, reward: 200.0 (mean: 1.0, average mean: 0.276358), Epsilon: 0.029790\n",
      "INFO:root:Episode: 82/200, reward: 200.0 (mean: 1.0, average mean: 0.285183), Epsilon: 0.029541\n",
      "INFO:root:Episode: 83/200, reward: 200.0 (mean: 1.0, average mean: 0.293795), Epsilon: 0.029291\n",
      "INFO:root:Episode: 84/200, reward: 178.0 (mean: 0.89, average mean: 0.300893), Epsilon: 0.029042\n",
      "INFO:root:Episode: 85/200, reward: 200.0 (mean: 1.0, average mean: 0.309118), Epsilon: 0.028792\n",
      "INFO:root:Episode: 86/200, reward: 200.0 (mean: 1.0, average mean: 0.317151), Epsilon: 0.028543\n",
      "INFO:root:Episode: 87/200, reward: 200.0 (mean: 1.0, average mean: 0.325000), Epsilon: 0.028293\n",
      "INFO:root:Episode: 88/200, reward: 200.0 (mean: 1.0, average mean: 0.332670), Epsilon: 0.028044\n",
      "INFO:root:Episode: 89/200, reward: 183.0 (mean: 0.915, average mean: 0.339213), Epsilon: 0.027795\n",
      "INFO:root:Episode: 90/200, reward: 200.0 (mean: 1.0, average mean: 0.346556), Epsilon: 0.027545\n",
      "INFO:root:Episode: 91/200, reward: 200.0 (mean: 1.0, average mean: 0.353736), Epsilon: 0.027296\n",
      "INFO:root:Episode: 92/200, reward: 200.0 (mean: 1.0, average mean: 0.360761), Epsilon: 0.027046\n",
      "INFO:root:Episode: 93/200, reward: 200.0 (mean: 1.0, average mean: 0.367634), Epsilon: 0.026797\n",
      "INFO:root:Episode: 94/200, reward: 200.0 (mean: 1.0, average mean: 0.374362), Epsilon: 0.026547\n",
      "INFO:root:Episode: 95/200, reward: 140.0 (mean: 0.7, average mean: 0.377789), Epsilon: 0.026298\n",
      "INFO:root:Episode: 96/200, reward: 166.0 (mean: 0.83, average mean: 0.382500), Epsilon: 0.026048\n",
      "INFO:root:Episode: 97/200, reward: 150.0 (mean: 0.75, average mean: 0.386289), Epsilon: 0.025798\n",
      "INFO:root:Episode: 98/200, reward: 200.0 (mean: 1.0, average mean: 0.392551), Epsilon: 0.025549\n",
      "INFO:root:Episode: 99/200, reward: 200.0 (mean: 1.0, average mean: 0.398687), Epsilon: 0.025299\n",
      "INFO:root:Episode: 100/200, reward: 185.0 (mean: 0.925, average mean: 0.403950), Epsilon: 0.025050\n",
      "INFO:root:Episode: 101/200, reward: 200.0 (mean: 1.0, average mean: 0.409851), Epsilon: 0.024800\n",
      "INFO:root:Episode: 102/200, reward: 198.0 (mean: 0.99, average mean: 0.415539), Epsilon: 0.024551\n",
      "INFO:root:Episode: 103/200, reward: 200.0 (mean: 1.0, average mean: 0.421214), Epsilon: 0.024302\n",
      "INFO:root:Episode: 104/200, reward: 200.0 (mean: 1.0, average mean: 0.426779), Epsilon: 0.024052\n",
      "INFO:root:Episode: 105/200, reward: 145.0 (mean: 0.725, average mean: 0.429619), Epsilon: 0.023802\n",
      "INFO:root:Episode: 106/200, reward: 156.0 (mean: 0.78, average mean: 0.432925), Epsilon: 0.023553\n",
      "INFO:root:Episode: 107/200, reward: 181.0 (mean: 0.905, average mean: 0.437336), Epsilon: 0.023304\n",
      "INFO:root:Episode: 108/200, reward: 151.0 (mean: 0.755, average mean: 0.440278), Epsilon: 0.023054\n",
      "INFO:root:Episode: 109/200, reward: 125.0 (mean: 0.625, average mean: 0.441972), Epsilon: 0.022805\n",
      "INFO:root:Episode: 110/200, reward: 129.0 (mean: 0.645, average mean: 0.443818), Epsilon: 0.022555\n",
      "INFO:root:Episode: 111/200, reward: 116.0 (mean: 0.58, average mean: 0.445045), Epsilon: 0.022305\n",
      "INFO:root:Episode: 112/200, reward: 127.0 (mean: 0.635, average mean: 0.446741), Epsilon: 0.022056\n",
      "INFO:root:Episode: 113/200, reward: 120.0 (mean: 0.6, average mean: 0.448097), Epsilon: 0.021806\n",
      "INFO:root:Episode: 114/200, reward: 127.0 (mean: 0.635, average mean: 0.449737), Epsilon: 0.021557\n",
      "INFO:root:Episode: 115/200, reward: 113.0 (mean: 0.565, average mean: 0.450739), Epsilon: 0.021308\n",
      "INFO:root:Episode: 116/200, reward: 127.0 (mean: 0.635, average mean: 0.452328), Epsilon: 0.021058\n",
      "INFO:root:Episode: 117/200, reward: 128.0 (mean: 0.64, average mean: 0.453932), Epsilon: 0.020808\n",
      "INFO:root:Episode: 118/200, reward: 112.0 (mean: 0.56, average mean: 0.454831), Epsilon: 0.020559\n",
      "INFO:root:Episode: 119/200, reward: 116.0 (mean: 0.58, average mean: 0.455882), Epsilon: 0.020310\n",
      "INFO:root:Episode: 120/200, reward: 112.0 (mean: 0.56, average mean: 0.456750), Epsilon: 0.020060\n",
      "INFO:root:Episode: 121/200, reward: 109.0 (mean: 0.545, average mean: 0.457479), Epsilon: 0.019811\n",
      "INFO:root:Episode: 122/200, reward: 115.0 (mean: 0.575, average mean: 0.458443), Epsilon: 0.019561\n",
      "INFO:root:Episode: 123/200, reward: 117.0 (mean: 0.585, average mean: 0.459472), Epsilon: 0.019311\n",
      "INFO:root:Episode: 124/200, reward: 114.0 (mean: 0.57, average mean: 0.460363), Epsilon: 0.019062\n",
      "INFO:root:Episode: 125/200, reward: 124.0 (mean: 0.62, average mean: 0.461640), Epsilon: 0.018812\n",
      "INFO:root:Episode: 126/200, reward: 121.0 (mean: 0.605, average mean: 0.462778), Epsilon: 0.018563\n",
      "INFO:root:Episode: 127/200, reward: 111.0 (mean: 0.555, average mean: 0.463504), Epsilon: 0.018313\n",
      "INFO:root:Episode: 128/200, reward: 112.0 (mean: 0.56, average mean: 0.464258), Epsilon: 0.018064\n",
      "INFO:root:Episode: 129/200, reward: 102.0 (mean: 0.51, average mean: 0.464612), Epsilon: 0.017814\n",
      "INFO:root:Episode: 130/200, reward: 117.0 (mean: 0.585, average mean: 0.465538), Epsilon: 0.017565\n",
      "INFO:root:Episode: 131/200, reward: 109.0 (mean: 0.545, average mean: 0.466145), Epsilon: 0.017315\n",
      "INFO:root:Episode: 132/200, reward: 120.0 (mean: 0.6, average mean: 0.467159), Epsilon: 0.017066\n",
      "INFO:root:Episode: 133/200, reward: 117.0 (mean: 0.585, average mean: 0.468045), Epsilon: 0.016817\n",
      "INFO:root:Episode: 134/200, reward: 108.0 (mean: 0.54, average mean: 0.468582), Epsilon: 0.016567\n",
      "INFO:root:Episode: 135/200, reward: 115.0 (mean: 0.575, average mean: 0.469370), Epsilon: 0.016317\n",
      "INFO:root:Episode: 136/200, reward: 111.0 (mean: 0.555, average mean: 0.470000), Epsilon: 0.016068\n",
      "INFO:root:Episode: 137/200, reward: 120.0 (mean: 0.6, average mean: 0.470949), Epsilon: 0.015818\n",
      "INFO:root:Episode: 138/200, reward: 118.0 (mean: 0.59, average mean: 0.471812), Epsilon: 0.015569\n",
      "INFO:root:Episode: 139/200, reward: 128.0 (mean: 0.64, average mean: 0.473022), Epsilon: 0.015319\n",
      "INFO:root:Episode: 140/200, reward: 120.0 (mean: 0.6, average mean: 0.473929), Epsilon: 0.015070\n",
      "INFO:root:Episode: 141/200, reward: 119.0 (mean: 0.595, average mean: 0.474787), Epsilon: 0.014820\n",
      "INFO:root:Episode: 142/200, reward: 116.0 (mean: 0.58, average mean: 0.475528), Epsilon: 0.014571\n",
      "INFO:root:Episode: 143/200, reward: 121.0 (mean: 0.605, average mean: 0.476434), Epsilon: 0.014321\n",
      "INFO:root:Episode: 144/200, reward: 115.0 (mean: 0.575, average mean: 0.477118), Epsilon: 0.014072\n",
      "INFO:root:Episode: 145/200, reward: 111.0 (mean: 0.555, average mean: 0.477655), Epsilon: 0.013822\n",
      "INFO:root:Episode: 146/200, reward: 118.0 (mean: 0.59, average mean: 0.478425), Epsilon: 0.013573\n",
      "INFO:root:Episode: 147/200, reward: 133.0 (mean: 0.665, average mean: 0.479694), Epsilon: 0.013324\n",
      "INFO:root:Episode: 148/200, reward: 123.0 (mean: 0.615, average mean: 0.480608), Epsilon: 0.013074\n",
      "INFO:root:Episode: 149/200, reward: 128.0 (mean: 0.64, average mean: 0.481678), Epsilon: 0.012824\n",
      "INFO:root:Episode: 150/200, reward: 142.0 (mean: 0.71, average mean: 0.483200), Epsilon: 0.012575\n",
      "INFO:root:Episode: 151/200, reward: 176.0 (mean: 0.88, average mean: 0.485828), Epsilon: 0.012325\n",
      "INFO:root:Episode: 152/200, reward: 130.0 (mean: 0.65, average mean: 0.486908), Epsilon: 0.012076\n",
      "INFO:root:Episode: 153/200, reward: 140.0 (mean: 0.7, average mean: 0.488301), Epsilon: 0.011826\n",
      "INFO:root:Episode: 154/200, reward: 139.0 (mean: 0.695, average mean: 0.489643), Epsilon: 0.011577\n",
      "INFO:root:Episode: 155/200, reward: 121.0 (mean: 0.605, average mean: 0.490387), Epsilon: 0.011327\n",
      "INFO:root:Episode: 156/200, reward: 142.0 (mean: 0.71, average mean: 0.491795), Epsilon: 0.011078\n",
      "INFO:root:Episode: 157/200, reward: 158.0 (mean: 0.79, average mean: 0.493694), Epsilon: 0.010828\n",
      "INFO:root:Episode: 158/200, reward: 200.0 (mean: 1.0, average mean: 0.496899), Epsilon: 0.010579\n",
      "INFO:root:Episode: 159/200, reward: 175.0 (mean: 0.875, average mean: 0.499277), Epsilon: 0.010329\n",
      "INFO:root:Episode: 160/200, reward: 24.0 (mean: 0.12, average mean: 0.496906), Epsilon: 0.010080\n",
      "INFO:root:Episode: 161/200, reward: 18.0 (mean: 0.09, average mean: 0.494379), Epsilon: 0.009830\n",
      "INFO:root:Episode: 162/200, reward: 24.0 (mean: 0.12, average mean: 0.492068), Epsilon: 0.009581\n",
      "INFO:root:Episode: 163/200, reward: 23.0 (mean: 0.115, average mean: 0.489755), Epsilon: 0.009331\n",
      "INFO:root:Episode: 164/200, reward: 168.0 (mean: 0.84, average mean: 0.491890), Epsilon: 0.009082\n",
      "INFO:root:Episode: 165/200, reward: 200.0 (mean: 1.0, average mean: 0.494970), Epsilon: 0.008832\n",
      "INFO:root:Episode: 166/200, reward: 182.0 (mean: 0.91, average mean: 0.497470), Epsilon: 0.008583\n",
      "INFO:root:Episode: 167/200, reward: 200.0 (mean: 1.0, average mean: 0.500479), Epsilon: 0.008334\n",
      "INFO:root:Episode: 168/200, reward: 200.0 (mean: 1.0, average mean: 0.503452), Epsilon: 0.008084\n",
      "INFO:root:Episode: 169/200, reward: 200.0 (mean: 1.0, average mean: 0.506391), Epsilon: 0.007834\n",
      "INFO:root:Episode: 170/200, reward: 200.0 (mean: 1.0, average mean: 0.509294), Epsilon: 0.007585\n",
      "INFO:root:Episode: 171/200, reward: 200.0 (mean: 1.0, average mean: 0.512164), Epsilon: 0.007336\n",
      "INFO:root:Episode: 172/200, reward: 200.0 (mean: 1.0, average mean: 0.515000), Epsilon: 0.007086\n",
      "INFO:root:Episode: 173/200, reward: 200.0 (mean: 1.0, average mean: 0.517803), Epsilon: 0.006837\n",
      "INFO:root:Episode: 174/200, reward: 200.0 (mean: 1.0, average mean: 0.520575), Epsilon: 0.006587\n",
      "INFO:root:Episode: 175/200, reward: 200.0 (mean: 1.0, average mean: 0.523314), Epsilon: 0.006338\n",
      "INFO:root:Episode: 176/200, reward: 200.0 (mean: 1.0, average mean: 0.526023), Epsilon: 0.006088\n",
      "INFO:root:Episode: 177/200, reward: 200.0 (mean: 1.0, average mean: 0.528701), Epsilon: 0.005839\n",
      "INFO:root:Episode: 178/200, reward: 200.0 (mean: 1.0, average mean: 0.531348), Epsilon: 0.005589\n",
      "INFO:root:Episode: 179/200, reward: 200.0 (mean: 1.0, average mean: 0.533966), Epsilon: 0.005339\n",
      "INFO:root:Episode: 180/200, reward: 200.0 (mean: 1.0, average mean: 0.536556), Epsilon: 0.005090\n",
      "INFO:root:Episode: 181/200, reward: 200.0 (mean: 1.0, average mean: 0.539116), Epsilon: 0.004841\n",
      "INFO:root:Episode: 182/200, reward: 200.0 (mean: 1.0, average mean: 0.541648), Epsilon: 0.004591\n",
      "INFO:root:Episode: 183/200, reward: 200.0 (mean: 1.0, average mean: 0.544153), Epsilon: 0.004342\n",
      "INFO:root:Episode: 184/200, reward: 200.0 (mean: 1.0, average mean: 0.546630), Epsilon: 0.004092\n",
      "INFO:root:Episode: 185/200, reward: 200.0 (mean: 1.0, average mean: 0.549081), Epsilon: 0.003842\n",
      "INFO:root:Episode: 186/200, reward: 200.0 (mean: 1.0, average mean: 0.551505), Epsilon: 0.003593\n",
      "INFO:root:Episode: 187/200, reward: 200.0 (mean: 1.0, average mean: 0.553904), Epsilon: 0.003344\n",
      "INFO:root:Episode: 188/200, reward: 200.0 (mean: 1.0, average mean: 0.556277), Epsilon: 0.003094\n",
      "INFO:root:Episode: 189/200, reward: 200.0 (mean: 1.0, average mean: 0.558624), Epsilon: 0.002844\n",
      "INFO:root:Episode: 190/200, reward: 200.0 (mean: 1.0, average mean: 0.560947), Epsilon: 0.002595\n",
      "INFO:root:Episode: 191/200, reward: 200.0 (mean: 1.0, average mean: 0.563246), Epsilon: 0.002345\n",
      "INFO:root:Episode: 192/200, reward: 200.0 (mean: 1.0, average mean: 0.565521), Epsilon: 0.002096\n",
      "INFO:root:Episode: 193/200, reward: 200.0 (mean: 1.0, average mean: 0.567772), Epsilon: 0.001847\n",
      "INFO:root:Episode: 194/200, reward: 159.0 (mean: 0.795, average mean: 0.568943), Epsilon: 0.001597\n",
      "INFO:root:Episode: 195/200, reward: 200.0 (mean: 1.0, average mean: 0.571154), Epsilon: 0.001348\n",
      "INFO:root:Episode: 196/200, reward: 200.0 (mean: 1.0, average mean: 0.573342), Epsilon: 0.001098\n",
      "INFO:root:Episode: 197/200, reward: 200.0 (mean: 1.0, average mean: 0.575508), Epsilon: 0.000848\n",
      "INFO:root:Episode: 198/200, reward: 200.0 (mean: 1.0, average mean: 0.577652), Epsilon: 0.000599\n",
      "INFO:root:Episode: 199/200, reward: 200.0 (mean: 1.0, average mean: 0.579774), Epsilon: 0.000349\n",
      "INFO:root:Episode: 200/200, reward: 200.0 (mean: 1.0, average mean: 0.581875), Epsilon: 0.000100\n"
     ]
    }
   ],
   "source": [
    "rewards = agent.train(n_episodes=n_episodes, max_steps=max_steps)"
   ]
  },
  {
   "cell_type": "markdown",
   "metadata": {},
   "source": [
    "### Plot the results"
   ]
  },
  {
   "cell_type": "code",
   "execution_count": 4,
   "metadata": {},
   "outputs": [
    {
     "data": {
      "text/plain": [
       "Text(0.5, 0, 'Episodes')"
      ]
     },
     "execution_count": 4,
     "metadata": {},
     "output_type": "execute_result"
    },
    {
     "data": {
      "image/png": "[encoded data removed]",
      "text/plain": [
       "<Figure size 432x288 with 1 Axes>"
      ]
     },
     "metadata": {
      "needs_background": "light"
     },
     "output_type": "display_data"
    }
   ],
   "source": [
    "fig = plt.figure()\n",
    "ax = fig.add_subplot(1, 1, 1)\n",
    "ax.plot(rewards, label='Rewards', linewidth=1)\n",
    "ax.set_ylabel('Accumulated rewards')\n",
    "ax.set_xlabel('Episodes')"
   ]
  },
  {
   "cell_type": "markdown",
   "metadata": {},
   "source": [
    "### Evaluate the results"
   ]
  },
  {
   "cell_type": "code",
   "execution_count": 6,
   "metadata": {},
   "outputs": [
    {
     "name": "stdout",
     "output_type": "stream",
     "text": [
      "Average rewards for 100 episode: 200.0\n"
     ]
    }
   ],
   "source": [
    "stn = 100\n",
    "rwds = list()\n",
    "for i in range(stn):\n",
    "    st, rwd, done = env.reset(), 0, False\n",
    "    while not done:\n",
    "        action = agent.act(st)\n",
    "        st, r, done, _ = env.step(action)\n",
    "        rwd += r\n",
    "    rwds.append(rwd)\n",
    "print(f'Average rewards for {stn} episode: {np.mean(rwds)}')"
   ]
  },
  {
   "cell_type": "code",
   "execution_count": null,
   "metadata": {},
   "outputs": [],
   "source": []
  }
 ],
 "metadata": {
  "kernelspec": {
   "display_name": "Python 3",
   "language": "python",
   "name": "python3"
  },
  "language_info": {
   "codemirror_mode": {
    "name": "ipython",
    "version": 3
   },
   "file_extension": ".py",
   "mimetype": "text/x-python",
   "name": "python",
   "nbconvert_exporter": "python",
   "pygments_lexer": "ipython3",
   "version": "3.6.9"
  }
 },
 "nbformat": 4,
 "nbformat_minor": 4
}
